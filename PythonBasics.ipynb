{
 "cells": [
  {
   "cell_type": "code",
   "execution_count": 2,
   "id": "f6820813",
   "metadata": {},
   "outputs": [
    {
     "name": "stdout",
     "output_type": "stream",
     "text": [
      "0\n"
     ]
    }
   ],
   "source": [
    "# Declarar e iniciar uma variável\n",
    "\n",
    "f = 0\n",
    "print(f)"
   ]
  },
  {
   "cell_type": "code",
   "execution_count": 4,
   "id": "bc9c6bce",
   "metadata": {},
   "outputs": [
    {
     "name": "stdout",
     "output_type": "stream",
     "text": [
      "abc\n"
     ]
    }
   ],
   "source": [
    "# Declarar a mesma variável novamente\n",
    "f = 'abc'\n",
    "print(f)"
   ]
  },
  {
   "cell_type": "code",
   "execution_count": 5,
   "id": "02f8469a",
   "metadata": {},
   "outputs": [
    {
     "name": "stdout",
     "output_type": "stream",
     "text": [
      "isto é uma string123\n"
     ]
    }
   ],
   "source": [
    "# Gerar um erro, tentando unir variáveis de tipos diferentes\n",
    "print('isto é uma string' + str(123))"
   ]
  },
  {
   "cell_type": "code",
   "execution_count": 6,
   "id": "f0186ad4",
   "metadata": {},
   "outputs": [
    {
     "name": "stdout",
     "output_type": "stream",
     "text": [
      "def\n",
      "abc\n"
     ]
    }
   ],
   "source": [
    "# Variável Global X Variável Local\n",
    "def AlgumaFuncao():\n",
    "    f = \"def\"\n",
    "    print(f)\n",
    "\n",
    "AlgumaFuncao()\n",
    "print(f)"
   ]
  },
  {
   "cell_type": "code",
   "execution_count": 7,
   "id": "55bcaac5",
   "metadata": {},
   "outputs": [
    {
     "name": "stdout",
     "output_type": "stream",
     "text": [
      "def\n",
      "def\n"
     ]
    }
   ],
   "source": [
    "# Variável Global X Variável Local\n",
    "def AlgumaFuncao():\n",
    "    global f\n",
    "    f = \"def\"\n",
    "    print(f)\n",
    "\n",
    "AlgumaFuncao()\n",
    "print(f)"
   ]
  },
  {
   "cell_type": "code",
   "execution_count": 9,
   "id": "ca81e490",
   "metadata": {},
   "outputs": [
    {
     "name": "stdout",
     "output_type": "stream",
     "text": [
      "Eu sou uma função\n"
     ]
    }
   ],
   "source": [
    "#\n",
    "# Definir uma função básica\n",
    "def func1():\n",
    "    print(\"Eu sou uma função\")\n",
    "    \n",
    "func1()"
   ]
  },
  {
   "cell_type": "code",
   "execution_count": 10,
   "id": "097197dc",
   "metadata": {},
   "outputs": [
    {
     "name": "stdout",
     "output_type": "stream",
     "text": [
      "Dani Monteiro\n"
     ]
    }
   ],
   "source": [
    "# função que recebe argumentos\n",
    "def func2(arg1, arg2):\n",
    "    print(arg1 + \" \" + arg2)\n",
    "    \n",
    "func2(\"Dani\", \"Monteiro\")"
   ]
  },
  {
   "cell_type": "code",
   "execution_count": 11,
   "id": "86be8ce8",
   "metadata": {},
   "outputs": [
    {
     "data": {
      "text/plain": [
       "27"
      ]
     },
     "execution_count": 11,
     "metadata": {},
     "output_type": "execute_result"
    }
   ],
   "source": [
    "# função que retorna valor\n",
    "def cubo(x):\n",
    "    return x * x * x\n",
    "\n",
    "cubo(3)"
   ]
  },
  {
   "cell_type": "code",
   "execution_count": 12,
   "id": "de58fa93",
   "metadata": {},
   "outputs": [
    {
     "name": "stdout",
     "output_type": "stream",
     "text": [
      "x é menor que y\n"
     ]
    }
   ],
   "source": [
    "# condicionais\n",
    "\n",
    "def Condicionais():\n",
    "    x, y = 10, 100\n",
    "    \n",
    "    if (x < y):\n",
    "        print('x é menor que y')\n",
    "    else:\n",
    "        print('x é maior que y')\n",
    "        \n",
    "Condicionais()"
   ]
  },
  {
   "cell_type": "code",
   "execution_count": 17,
   "id": "93c16111",
   "metadata": {},
   "outputs": [
    {
     "name": "stdout",
     "output_type": "stream",
     "text": [
      "x é igual a y\n"
     ]
    }
   ],
   "source": [
    "def Condicionais():\n",
    "    x, y = 1000, 1000\n",
    "    \n",
    "    if (x < y):\n",
    "        print('x é menor que y')\n",
    "    elif (x == y):\n",
    "        print('x é igual a y')\n",
    "    else:\n",
    "        print('x é maior que y')\n",
    "        \n",
    "Condicionais()"
   ]
  },
  {
   "cell_type": "code",
   "execution_count": 19,
   "id": "069c05b2",
   "metadata": {},
   "outputs": [],
   "source": [
    "# definir um loop While\n",
    "def loopWhile():\n",
    "    x = 0\n",
    "    while (x < 5):\n",
    "        print(x)\n",
    "        x = x + 1"
   ]
  },
  {
   "cell_type": "code",
   "execution_count": 20,
   "id": "66d2e2c2",
   "metadata": {},
   "outputs": [
    {
     "name": "stdout",
     "output_type": "stream",
     "text": [
      "0\n",
      "1\n",
      "2\n",
      "3\n",
      "4\n"
     ]
    }
   ],
   "source": [
    "loopWhile()"
   ]
  },
  {
   "cell_type": "code",
   "execution_count": 21,
   "id": "ccbff696",
   "metadata": {},
   "outputs": [
    {
     "name": "stdout",
     "output_type": "stream",
     "text": [
      "5\n",
      "6\n",
      "7\n",
      "8\n",
      "9\n"
     ]
    }
   ],
   "source": [
    "# Definir um loop For\n",
    "def loopFor():\n",
    "    for x in range (5, 10):\n",
    "        print(x)\n",
    "        \n",
    "loopFor()"
   ]
  },
  {
   "cell_type": "code",
   "execution_count": 23,
   "id": "4cd899a4",
   "metadata": {},
   "outputs": [
    {
     "name": "stdout",
     "output_type": "stream",
     "text": [
      "ser\n",
      "ter\n",
      "qua\n",
      "qui\n",
      "sex\n",
      "sab\n",
      "dom\n"
     ]
    }
   ],
   "source": [
    "# Usar um Loop For para uma coleção\n",
    "def loopArray():\n",
    "    dias = ['ser', 'ter', 'qua', 'qui', 'sex', 'sab', 'dom']\n",
    "    for d in dias:\n",
    "        print(d)\n",
    "        \n",
    "loopArray()"
   ]
  },
  {
   "cell_type": "code",
   "execution_count": 27,
   "id": "0e765549",
   "metadata": {},
   "outputs": [
    {
     "name": "stdout",
     "output_type": "stream",
     "text": [
      "0 ser\n",
      "1 ter\n",
      "2 qua\n",
      "3 qui\n",
      "4 sex\n",
      "5 sab\n",
      "6 dom\n"
     ]
    }
   ],
   "source": [
    "# Usar a função enumerate, para encontrar valores e indices\n",
    "def loopEnum():\n",
    "    dias = ['ser', 'ter', 'qua', 'qui', 'sex', 'sab', 'dom']\n",
    "    for i, d in enumerate(dias):\n",
    "        print(i, d)\n",
    "        \n",
    "loopEnum()"
   ]
  },
  {
   "cell_type": "code",
   "execution_count": 28,
   "id": "d9cbedce",
   "metadata": {},
   "outputs": [
    {
     "name": "stdout",
     "output_type": "stream",
     "text": [
      "O valor de x é:  5\n",
      "O valor de x é:  6\n"
     ]
    }
   ],
   "source": [
    "# Exemplo de como usar um Break e Continue\n",
    "def loopBreak():\n",
    "    for x in range(5,10):\n",
    "        if x == 7:\n",
    "            break\n",
    "        print('O valor de x é: ', x)\n",
    "        \n",
    "loopBreak()"
   ]
  },
  {
   "cell_type": "code",
   "execution_count": 29,
   "id": "454e27ba",
   "metadata": {},
   "outputs": [
    {
     "name": "stdout",
     "output_type": "stream",
     "text": [
      "O valor de x é:  5\n",
      "O valor de x é:  6\n",
      "O valor de x é:  8\n",
      "O valor de x é:  9\n"
     ]
    }
   ],
   "source": [
    "def loopContinue():\n",
    "    for x in range(5,10):\n",
    "        if x == 7:\n",
    "            continue\n",
    "        print('O valor de x é: ', x)\n",
    "        \n",
    "loopContinue()"
   ]
  },
  {
   "cell_type": "code",
   "execution_count": 31,
   "id": "aa68517a",
   "metadata": {},
   "outputs": [
    {
     "name": "stdout",
     "output_type": "stream",
     "text": [
      "Passou pelo construtor!\n",
      "Passou pelo myMethod\n",
      "Executando um método\n"
     ]
    }
   ],
   "source": [
    "# Exemplo de como criar classes\n",
    "class minhaClasse():\n",
    "    def __init__(self):\n",
    "        self.myAttribute = \"Passou pelo construtor!\"\n",
    "        \n",
    "    def myMethod(self):\n",
    "        print(\"Passou pelo myMethod\")\n",
    "        \n",
    "    def myMethod2(self, valor):\n",
    "        self.otherAttribute = valor\n",
    "        print(self.otherAttribute)\n",
    "        \n",
    "def criaObjecto():\n",
    "    meuObj = minhaClasse()\n",
    "    var1 = meuObj.myAttribute\n",
    "    print(var1)\n",
    "    \n",
    "    meuObj.myMethod()\n",
    "    \n",
    "    meuObj.myMethod2('Executando um método')\n",
    "    \n",
    "criaObjecto()"
   ]
  },
  {
   "cell_type": "code",
   "execution_count": 39,
   "id": "50f4a0fa",
   "metadata": {},
   "outputs": [
    {
     "name": "stdout",
     "output_type": "stream",
     "text": [
      "Hoje é:  2022-03-06\n",
      "Partes da Data 6 3 2022\n",
      "Número do dia da semana:  6\n",
      "Nome abreviado do dia da semana:  dom\n",
      "Data e hora:  2022-03-06 17:53:07.610793\n",
      "Hora atual:  17:53:07.610793\n"
     ]
    }
   ],
   "source": [
    "# Manipulação de datas\n",
    "from datetime import date\n",
    "from datetime import time\n",
    "from datetime import datetime\n",
    "\n",
    "def DateTimeManipulation():\n",
    "    today = date.today()\n",
    "    print('Hoje é: ', today)\n",
    "    print('Partes da Data', today.day, today.month, today.year)\n",
    "    print('Número do dia da semana: ', today.weekday())\n",
    "    dias = ['ser', 'ter', 'qua', 'qui', 'sex', 'sab', 'dom']\n",
    "    print(\"Nome abreviado do dia da semana: \", dias[today.weekday()])\n",
    "    \n",
    "    data = datetime.now()\n",
    "    print(\"Data e hora: \", data)\n",
    "    \n",
    "    hora = datetime.time(data)\n",
    "    print('Hora atual: ', hora)\n",
    "\n",
    "DateTimeManipulation()"
   ]
  },
  {
   "cell_type": "code",
   "execution_count": null,
   "id": "e4bfa189",
   "metadata": {},
   "outputs": [],
   "source": []
  }
 ],
 "metadata": {
  "kernelspec": {
   "display_name": "Python 3 (ipykernel)",
   "language": "python",
   "name": "python3"
  },
  "language_info": {
   "codemirror_mode": {
    "name": "ipython",
    "version": 3
   },
   "file_extension": ".py",
   "mimetype": "text/x-python",
   "name": "python",
   "nbconvert_exporter": "python",
   "pygments_lexer": "ipython3",
   "version": "3.9.7"
  }
 },
 "nbformat": 4,
 "nbformat_minor": 5
}
